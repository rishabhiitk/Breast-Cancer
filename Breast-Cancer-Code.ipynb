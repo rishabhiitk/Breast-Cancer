{
 "cells": [
  {
   "cell_type": "markdown",
   "id": "8a37dff3",
   "metadata": {
    "papermill": {
     "duration": 0.011785,
     "end_time": "2024-07-29T21:24:44.107688",
     "exception": false,
     "start_time": "2024-07-29T21:24:44.095903",
     "status": "completed"
    },
    "tags": []
   },
   "source": [
    "# Importing Libraries\n",
    "**To build and evaluate a classification model using XGBClassifier, we need to import several libraries. Below are the libraries used in this notebook and their purposes:**"
   ]
  },
  {
   "cell_type": "code",
   "execution_count": 1,
   "id": "b534cbb4",
   "metadata": {
    "execution": {
     "iopub.execute_input": "2024-07-29T21:24:44.133875Z",
     "iopub.status.busy": "2024-07-29T21:24:44.133417Z",
     "iopub.status.idle": "2024-07-29T21:24:46.917311Z",
     "shell.execute_reply": "2024-07-29T21:24:46.916129Z"
    },
    "papermill": {
     "duration": 2.800608,
     "end_time": "2024-07-29T21:24:46.920407",
     "exception": false,
     "start_time": "2024-07-29T21:24:44.119799",
     "status": "completed"
    },
    "tags": []
   },
   "outputs": [],
   "source": [
    "import pandas as pd\n",
    "import numpy as np\n",
    "from sklearn.model_selection import train_test_split\n",
    "from sklearn.preprocessing import StandardScaler\n",
    "from xgboost import XGBClassifier\n",
    "from sklearn.metrics import accuracy_score, classification_report\n",
    "import warnings\n",
    "warnings.filterwarnings('ignore', category=FutureWarning)\n"
   ]
  },
  {
   "cell_type": "markdown",
   "id": "8b8162be",
   "metadata": {
    "papermill": {
     "duration": 0.011873,
     "end_time": "2024-07-29T21:24:46.944600",
     "exception": false,
     "start_time": "2024-07-29T21:24:46.932727",
     "status": "completed"
    },
    "tags": []
   },
   "source": [
    "# Library Overview\n",
    "**pandas:**\n",
    "\n",
    "import pandas as pd\n",
    "Used for data manipulation and analysis. It provides data structures like DataFrames for handling and analyzing structured data.\n",
    "\n",
    "**numpy:**\n",
    "\n",
    "import numpy as np\n",
    "Provides support for large arrays and matrices, along with a collection of mathematical functions to operate on these arrays.\n",
    "\n",
    "**sklearn.model_selection:**\n",
    "\n",
    "from sklearn.model_selection import train_test_split\n",
    "Used for splitting the dataset into training and testing sets, which is crucial for evaluating model performance.\n",
    "\n",
    "**sklearn.preprocessing:**\n",
    "\n",
    "from sklearn.preprocessing import StandardScaler\n",
    "Provides utilities for scaling and normalizing data, ensuring that the features are on a similar scale for better model performance.\n",
    "\n",
    "**xgboost:**\n",
    "\n",
    "from xgboost import XGBClassifier\n",
    "A powerful gradient boosting algorithm that enhances the performance of classification models through ensemble learning.\n",
    "\n",
    "**sklearn.metrics:**\n",
    "\n",
    "from sklearn.metrics import accuracy_score, classification_report\n",
    "Used for evaluating the model’s performance. accuracy_score provides the accuracy of the model, while classification_report offers a detailed performance summary including precision, recall, and F1-score.\n",
    "\n",
    "**warnings:**\n",
    "\n",
    "import warnings\n",
    "warnings.filterwarnings('ignore', category=FutureWarning)\n",
    "Suppresses FutureWarnings from Pandas to avoid clutter in the output. It's useful for maintaining cleaner output but should be used cautiously."
   ]
  },
  {
   "cell_type": "code",
   "execution_count": null,
   "id": "4c938f48",
   "metadata": {
    "papermill": {
     "duration": 0.011513,
     "end_time": "2024-07-29T21:24:46.968209",
     "exception": false,
     "start_time": "2024-07-29T21:24:46.956696",
     "status": "completed"
    },
    "tags": []
   },
   "outputs": [],
   "source": []
  },
  {
   "cell_type": "markdown",
   "id": "80d50298",
   "metadata": {
    "papermill": {
     "duration": 0.011602,
     "end_time": "2024-07-29T21:24:46.992229",
     "exception": false,
     "start_time": "2024-07-29T21:24:46.980627",
     "status": "completed"
    },
    "tags": []
   },
   "source": [
    "# Loading and Exploring the Data\n"
   ]
  },
  {
   "cell_type": "markdown",
   "id": "a6388852",
   "metadata": {
    "papermill": {
     "duration": 0.011769,
     "end_time": "2024-07-29T21:24:47.016067",
     "exception": false,
     "start_time": "2024-07-29T21:24:47.004298",
     "status": "completed"
    },
    "tags": []
   },
   "source": [
    "**1. Load the Data**\n",
    "\n",
    "We begin by loading the breast cancer dataset into a DataFrame:"
   ]
  },
  {
   "cell_type": "code",
   "execution_count": 2,
   "id": "eb4864fb",
   "metadata": {
    "execution": {
     "iopub.execute_input": "2024-07-29T21:24:47.045920Z",
     "iopub.status.busy": "2024-07-29T21:24:47.045310Z",
     "iopub.status.idle": "2024-07-29T21:24:47.084221Z",
     "shell.execute_reply": "2024-07-29T21:24:47.082882Z"
    },
    "papermill": {
     "duration": 0.055824,
     "end_time": "2024-07-29T21:24:47.087217",
     "exception": false,
     "start_time": "2024-07-29T21:24:47.031393",
     "status": "completed"
    },
    "tags": []
   },
   "outputs": [],
   "source": [
    "# Load the data\n",
    "Data = pd.read_csv('/kaggle/input/breast-cancer-wisconsin-data/data.csv')"
   ]
  },
  {
   "cell_type": "markdown",
   "id": "79758586",
   "metadata": {
    "papermill": {
     "duration": 0.011911,
     "end_time": "2024-07-29T21:24:47.111562",
     "exception": false,
     "start_time": "2024-07-29T21:24:47.099651",
     "status": "completed"
    },
    "tags": []
   },
   "source": [
    "**2. Display the First Few Rows**\n",
    "\n",
    "To get an initial understanding of the dataset, we display the first few rows:"
   ]
  },
  {
   "cell_type": "markdown",
   "id": "87e26118",
   "metadata": {
    "papermill": {
     "duration": 0.011669,
     "end_time": "2024-07-29T21:24:47.135335",
     "exception": false,
     "start_time": "2024-07-29T21:24:47.123666",
     "status": "completed"
    },
    "tags": []
   },
   "source": [
    "This step helps us see the structure and content of the data, including the column names and a snapshot of the entries."
   ]
  },
  {
   "cell_type": "code",
   "execution_count": 3,
   "id": "e3a0b902",
   "metadata": {
    "execution": {
     "iopub.execute_input": "2024-07-29T21:24:47.161484Z",
     "iopub.status.busy": "2024-07-29T21:24:47.160994Z",
     "iopub.status.idle": "2024-07-29T21:24:47.194548Z",
     "shell.execute_reply": "2024-07-29T21:24:47.193174Z"
    },
    "papermill": {
     "duration": 0.050488,
     "end_time": "2024-07-29T21:24:47.197858",
     "exception": false,
     "start_time": "2024-07-29T21:24:47.147370",
     "status": "completed"
    },
    "tags": []
   },
   "outputs": [
    {
     "name": "stdout",
     "output_type": "stream",
     "text": [
      "Display the first few rows of the dataset: \n",
      "          id diagnosis  radius_mean  texture_mean  perimeter_mean  area_mean  \\\n",
      "0    842302         M        17.99         10.38          122.80     1001.0   \n",
      "1    842517         M        20.57         17.77          132.90     1326.0   \n",
      "2  84300903         M        19.69         21.25          130.00     1203.0   \n",
      "3  84348301         M        11.42         20.38           77.58      386.1   \n",
      "4  84358402         M        20.29         14.34          135.10     1297.0   \n",
      "\n",
      "   smoothness_mean  compactness_mean  concavity_mean  concave points_mean  \\\n",
      "0          0.11840           0.27760          0.3001              0.14710   \n",
      "1          0.08474           0.07864          0.0869              0.07017   \n",
      "2          0.10960           0.15990          0.1974              0.12790   \n",
      "3          0.14250           0.28390          0.2414              0.10520   \n",
      "4          0.10030           0.13280          0.1980              0.10430   \n",
      "\n",
      "   ...  texture_worst  perimeter_worst  area_worst  smoothness_worst  \\\n",
      "0  ...          17.33           184.60      2019.0            0.1622   \n",
      "1  ...          23.41           158.80      1956.0            0.1238   \n",
      "2  ...          25.53           152.50      1709.0            0.1444   \n",
      "3  ...          26.50            98.87       567.7            0.2098   \n",
      "4  ...          16.67           152.20      1575.0            0.1374   \n",
      "\n",
      "   compactness_worst  concavity_worst  concave points_worst  symmetry_worst  \\\n",
      "0             0.6656           0.7119                0.2654          0.4601   \n",
      "1             0.1866           0.2416                0.1860          0.2750   \n",
      "2             0.4245           0.4504                0.2430          0.3613   \n",
      "3             0.8663           0.6869                0.2575          0.6638   \n",
      "4             0.2050           0.4000                0.1625          0.2364   \n",
      "\n",
      "   fractal_dimension_worst  Unnamed: 32  \n",
      "0                  0.11890          NaN  \n",
      "1                  0.08902          NaN  \n",
      "2                  0.08758          NaN  \n",
      "3                  0.17300          NaN  \n",
      "4                  0.07678          NaN  \n",
      "\n",
      "[5 rows x 33 columns]\n"
     ]
    }
   ],
   "source": [
    "# Display the first few rows of the dataset\n",
    "print(\"Display the first few rows of the dataset: \\n\",Data.head(5))"
   ]
  },
  {
   "cell_type": "markdown",
   "id": "9f6507f0",
   "metadata": {
    "papermill": {
     "duration": 0.011869,
     "end_time": "2024-07-29T21:24:47.222650",
     "exception": false,
     "start_time": "2024-07-29T21:24:47.210781",
     "status": "completed"
    },
    "tags": []
   },
   "source": [
    "**3. Display Basic Information**\n",
    "\n",
    "We use the info() method to get a summary of the dataset, including the number of non-null entries and data types of each column:"
   ]
  },
  {
   "cell_type": "markdown",
   "id": "6d8c8c3e",
   "metadata": {
    "papermill": {
     "duration": 0.012192,
     "end_time": "2024-07-29T21:24:47.247125",
     "exception": false,
     "start_time": "2024-07-29T21:24:47.234933",
     "status": "completed"
    },
    "tags": []
   },
   "source": [
    "This information is useful to understand the dataset's structure and check if any columns contain missing values."
   ]
  },
  {
   "cell_type": "code",
   "execution_count": 4,
   "id": "b84f8cdc",
   "metadata": {
    "execution": {
     "iopub.execute_input": "2024-07-29T21:24:47.273875Z",
     "iopub.status.busy": "2024-07-29T21:24:47.273013Z",
     "iopub.status.idle": "2024-07-29T21:24:47.303098Z",
     "shell.execute_reply": "2024-07-29T21:24:47.301749Z"
    },
    "papermill": {
     "duration": 0.046853,
     "end_time": "2024-07-29T21:24:47.306281",
     "exception": false,
     "start_time": "2024-07-29T21:24:47.259428",
     "status": "completed"
    },
    "tags": []
   },
   "outputs": [
    {
     "name": "stdout",
     "output_type": "stream",
     "text": [
      "<class 'pandas.core.frame.DataFrame'>\n",
      "RangeIndex: 569 entries, 0 to 568\n",
      "Data columns (total 33 columns):\n",
      " #   Column                   Non-Null Count  Dtype  \n",
      "---  ------                   --------------  -----  \n",
      " 0   id                       569 non-null    int64  \n",
      " 1   diagnosis                569 non-null    object \n",
      " 2   radius_mean              569 non-null    float64\n",
      " 3   texture_mean             569 non-null    float64\n",
      " 4   perimeter_mean           569 non-null    float64\n",
      " 5   area_mean                569 non-null    float64\n",
      " 6   smoothness_mean          569 non-null    float64\n",
      " 7   compactness_mean         569 non-null    float64\n",
      " 8   concavity_mean           569 non-null    float64\n",
      " 9   concave points_mean      569 non-null    float64\n",
      " 10  symmetry_mean            569 non-null    float64\n",
      " 11  fractal_dimension_mean   569 non-null    float64\n",
      " 12  radius_se                569 non-null    float64\n",
      " 13  texture_se               569 non-null    float64\n",
      " 14  perimeter_se             569 non-null    float64\n",
      " 15  area_se                  569 non-null    float64\n",
      " 16  smoothness_se            569 non-null    float64\n",
      " 17  compactness_se           569 non-null    float64\n",
      " 18  concavity_se             569 non-null    float64\n",
      " 19  concave points_se        569 non-null    float64\n",
      " 20  symmetry_se              569 non-null    float64\n",
      " 21  fractal_dimension_se     569 non-null    float64\n",
      " 22  radius_worst             569 non-null    float64\n",
      " 23  texture_worst            569 non-null    float64\n",
      " 24  perimeter_worst          569 non-null    float64\n",
      " 25  area_worst               569 non-null    float64\n",
      " 26  smoothness_worst         569 non-null    float64\n",
      " 27  compactness_worst        569 non-null    float64\n",
      " 28  concavity_worst          569 non-null    float64\n",
      " 29  concave points_worst     569 non-null    float64\n",
      " 30  symmetry_worst           569 non-null    float64\n",
      " 31  fractal_dimension_worst  569 non-null    float64\n",
      " 32  Unnamed: 32              0 non-null      float64\n",
      "dtypes: float64(31), int64(1), object(1)\n",
      "memory usage: 146.8+ KB\n",
      "===>Display basic information about the dataset:\n",
      " None\n"
     ]
    }
   ],
   "source": [
    "# Display basic information about the dataset\n",
    "print(\"===>Display basic information about the dataset:\\n\",Data.info())"
   ]
  },
  {
   "cell_type": "markdown",
   "id": "2e2741f8",
   "metadata": {
    "papermill": {
     "duration": 0.012084,
     "end_time": "2024-07-29T21:24:47.331257",
     "exception": false,
     "start_time": "2024-07-29T21:24:47.319173",
     "status": "completed"
    },
    "tags": []
   },
   "source": [
    "**4. Display Summary Statistics**\n",
    "\n",
    "To get a sense of the distribution of numerical features, we use the describe() method:"
   ]
  },
  {
   "cell_type": "code",
   "execution_count": 5,
   "id": "fb1c3aa6",
   "metadata": {
    "execution": {
     "iopub.execute_input": "2024-07-29T21:24:47.358780Z",
     "iopub.status.busy": "2024-07-29T21:24:47.358371Z",
     "iopub.status.idle": "2024-07-29T21:24:47.443985Z",
     "shell.execute_reply": "2024-07-29T21:24:47.441875Z"
    },
    "papermill": {
     "duration": 0.102451,
     "end_time": "2024-07-29T21:24:47.447014",
     "exception": false,
     "start_time": "2024-07-29T21:24:47.344563",
     "status": "completed"
    },
    "tags": []
   },
   "outputs": [
    {
     "name": "stdout",
     "output_type": "stream",
     "text": [
      "Display summary statistics: \n",
      "                  id  radius_mean  texture_mean  perimeter_mean    area_mean  \\\n",
      "count  5.690000e+02   569.000000    569.000000      569.000000   569.000000   \n",
      "mean   3.037183e+07    14.127292     19.289649       91.969033   654.889104   \n",
      "std    1.250206e+08     3.524049      4.301036       24.298981   351.914129   \n",
      "min    8.670000e+03     6.981000      9.710000       43.790000   143.500000   \n",
      "25%    8.692180e+05    11.700000     16.170000       75.170000   420.300000   \n",
      "50%    9.060240e+05    13.370000     18.840000       86.240000   551.100000   \n",
      "75%    8.813129e+06    15.780000     21.800000      104.100000   782.700000   \n",
      "max    9.113205e+08    28.110000     39.280000      188.500000  2501.000000   \n",
      "\n",
      "       smoothness_mean  compactness_mean  concavity_mean  concave points_mean  \\\n",
      "count       569.000000        569.000000      569.000000           569.000000   \n",
      "mean          0.096360          0.104341        0.088799             0.048919   \n",
      "std           0.014064          0.052813        0.079720             0.038803   \n",
      "min           0.052630          0.019380        0.000000             0.000000   \n",
      "25%           0.086370          0.064920        0.029560             0.020310   \n",
      "50%           0.095870          0.092630        0.061540             0.033500   \n",
      "75%           0.105300          0.130400        0.130700             0.074000   \n",
      "max           0.163400          0.345400        0.426800             0.201200   \n",
      "\n",
      "       symmetry_mean  ...  texture_worst  perimeter_worst   area_worst  \\\n",
      "count     569.000000  ...     569.000000       569.000000   569.000000   \n",
      "mean        0.181162  ...      25.677223       107.261213   880.583128   \n",
      "std         0.027414  ...       6.146258        33.602542   569.356993   \n",
      "min         0.106000  ...      12.020000        50.410000   185.200000   \n",
      "25%         0.161900  ...      21.080000        84.110000   515.300000   \n",
      "50%         0.179200  ...      25.410000        97.660000   686.500000   \n",
      "75%         0.195700  ...      29.720000       125.400000  1084.000000   \n",
      "max         0.304000  ...      49.540000       251.200000  4254.000000   \n",
      "\n",
      "       smoothness_worst  compactness_worst  concavity_worst  \\\n",
      "count        569.000000         569.000000       569.000000   \n",
      "mean           0.132369           0.254265         0.272188   \n",
      "std            0.022832           0.157336         0.208624   \n",
      "min            0.071170           0.027290         0.000000   \n",
      "25%            0.116600           0.147200         0.114500   \n",
      "50%            0.131300           0.211900         0.226700   \n",
      "75%            0.146000           0.339100         0.382900   \n",
      "max            0.222600           1.058000         1.252000   \n",
      "\n",
      "       concave points_worst  symmetry_worst  fractal_dimension_worst  \\\n",
      "count            569.000000      569.000000               569.000000   \n",
      "mean               0.114606        0.290076                 0.083946   \n",
      "std                0.065732        0.061867                 0.018061   \n",
      "min                0.000000        0.156500                 0.055040   \n",
      "25%                0.064930        0.250400                 0.071460   \n",
      "50%                0.099930        0.282200                 0.080040   \n",
      "75%                0.161400        0.317900                 0.092080   \n",
      "max                0.291000        0.663800                 0.207500   \n",
      "\n",
      "       Unnamed: 32  \n",
      "count          0.0  \n",
      "mean           NaN  \n",
      "std            NaN  \n",
      "min            NaN  \n",
      "25%            NaN  \n",
      "50%            NaN  \n",
      "75%            NaN  \n",
      "max            NaN  \n",
      "\n",
      "[8 rows x 32 columns]\n"
     ]
    }
   ],
   "source": [
    "# Display summary statistics\n",
    "print(\"Display summary statistics: \\n\",Data.describe())"
   ]
  },
  {
   "cell_type": "markdown",
   "id": "580fadc5",
   "metadata": {
    "papermill": {
     "duration": 0.012474,
     "end_time": "2024-07-29T21:24:47.472229",
     "exception": false,
     "start_time": "2024-07-29T21:24:47.459755",
     "status": "completed"
    },
    "tags": []
   },
   "source": [
    "This method provides key statistics such as mean, standard deviation, and quartiles for each numerical feature."
   ]
  },
  {
   "cell_type": "markdown",
   "id": "22d850a6",
   "metadata": {
    "papermill": {
     "duration": 0.012415,
     "end_time": "2024-07-29T21:24:47.497394",
     "exception": false,
     "start_time": "2024-07-29T21:24:47.484979",
     "status": "completed"
    },
    "tags": []
   },
   "source": [
    "**5. Check for Missing Values**\n",
    "\n",
    "Finally, we check for any missing values in the dataset:"
   ]
  },
  {
   "cell_type": "markdown",
   "id": "682fca6b",
   "metadata": {
    "papermill": {
     "duration": 0.012136,
     "end_time": "2024-07-29T21:24:47.522160",
     "exception": false,
     "start_time": "2024-07-29T21:24:47.510024",
     "status": "completed"
    },
    "tags": []
   },
   "source": [
    "This step is crucial for identifying any columns that need data imputation or cleaning before proceeding with analysis or modeling."
   ]
  },
  {
   "cell_type": "code",
   "execution_count": 6,
   "id": "1dd6214c",
   "metadata": {
    "execution": {
     "iopub.execute_input": "2024-07-29T21:24:47.549995Z",
     "iopub.status.busy": "2024-07-29T21:24:47.549546Z",
     "iopub.status.idle": "2024-07-29T21:24:47.557836Z",
     "shell.execute_reply": "2024-07-29T21:24:47.556526Z"
    },
    "papermill": {
     "duration": 0.026109,
     "end_time": "2024-07-29T21:24:47.561062",
     "exception": false,
     "start_time": "2024-07-29T21:24:47.534953",
     "status": "completed"
    },
    "tags": []
   },
   "outputs": [
    {
     "name": "stdout",
     "output_type": "stream",
     "text": [
      "missing values:\n",
      " id                           0\n",
      "diagnosis                    0\n",
      "radius_mean                  0\n",
      "texture_mean                 0\n",
      "perimeter_mean               0\n",
      "area_mean                    0\n",
      "smoothness_mean              0\n",
      "compactness_mean             0\n",
      "concavity_mean               0\n",
      "concave points_mean          0\n",
      "symmetry_mean                0\n",
      "fractal_dimension_mean       0\n",
      "radius_se                    0\n",
      "texture_se                   0\n",
      "perimeter_se                 0\n",
      "area_se                      0\n",
      "smoothness_se                0\n",
      "compactness_se               0\n",
      "concavity_se                 0\n",
      "concave points_se            0\n",
      "symmetry_se                  0\n",
      "fractal_dimension_se         0\n",
      "radius_worst                 0\n",
      "texture_worst                0\n",
      "perimeter_worst              0\n",
      "area_worst                   0\n",
      "smoothness_worst             0\n",
      "compactness_worst            0\n",
      "concavity_worst              0\n",
      "concave points_worst         0\n",
      "symmetry_worst               0\n",
      "fractal_dimension_worst      0\n",
      "Unnamed: 32                569\n",
      "dtype: int64\n"
     ]
    }
   ],
   "source": [
    "# Check for missing values\n",
    "print(\"missing values:\\n\",Data.isnull().sum())"
   ]
  },
  {
   "cell_type": "markdown",
   "id": "b7b7b22c",
   "metadata": {
    "papermill": {
     "duration": 0.012459,
     "end_time": "2024-07-29T21:24:47.586159",
     "exception": false,
     "start_time": "2024-07-29T21:24:47.573700",
     "status": "completed"
    },
    "tags": []
   },
   "source": [
    "# Data Preprocessing and Splitting\n",
    "**1. Drop Unnecessary Columns**\n",
    "\n",
    "We start by removing columns that are not useful for our analysis or model training. In this case, we drop the 'Unnamed: 32' column and the 'id' column:\n",
    "The 'id' column is typically an identifier and does not contribute to the prediction, while 'Unnamed: 32' might be an empty or irrelevant column.\n",
    "\n",
    "**2. Separate Features and Target Variable**\n",
    "\n",
    "Next, we separate the features and the target variable:\n",
    "X: Contains all columns except 'diagnosis', which are the features used for prediction.\n",
    "y: Contains the 'diagnosis' column, which is our target variable.\n",
    "\n",
    "**3. Convert Target Variable to Binary** \n",
    "\n",
    "We convert the categorical 'diagnosis' column to binary values for classification:\n",
    "Malignant ('M') is converted to 1.\n",
    "Benign ('B') is converted to 0.\n"
   ]
  },
  {
   "cell_type": "code",
   "execution_count": 7,
   "id": "ff3e2663",
   "metadata": {
    "execution": {
     "iopub.execute_input": "2024-07-29T21:24:47.614483Z",
     "iopub.status.busy": "2024-07-29T21:24:47.614039Z",
     "iopub.status.idle": "2024-07-29T21:24:47.626905Z",
     "shell.execute_reply": "2024-07-29T21:24:47.625551Z"
    },
    "papermill": {
     "duration": 0.029951,
     "end_time": "2024-07-29T21:24:47.629455",
     "exception": false,
     "start_time": "2024-07-29T21:24:47.599504",
     "status": "completed"
    },
    "tags": []
   },
   "outputs": [
    {
     "name": "stdout",
     "output_type": "stream",
     "text": [
      "target: \n",
      " 0    1\n",
      "1    1\n",
      "2    1\n",
      "3    1\n",
      "4    1\n",
      "5    1\n",
      "6    1\n",
      "7    1\n",
      "8    1\n",
      "9    1\n",
      "Name: diagnosis, dtype: int64\n"
     ]
    }
   ],
   "source": [
    "Data = Data.drop(['Unnamed: 32', 'id'], axis = 1)\n",
    "\n",
    "X = Data.drop('diagnosis', axis=1)  \n",
    "y = Data['diagnosis']     \n",
    "\n",
    "# Convert 'diagnosis' column to binary\n",
    "y = y.replace({'M': 1, 'B': 0})\n",
    "\n",
    "print(\"target: \\n\",y.head(10))"
   ]
  },
  {
   "cell_type": "markdown",
   "id": "60e0332c",
   "metadata": {
    "papermill": {
     "duration": 0.013026,
     "end_time": "2024-07-29T21:24:47.655514",
     "exception": false,
     "start_time": "2024-07-29T21:24:47.642488",
     "status": "completed"
    },
    "tags": []
   },
   "source": [
    "**4. Split the Data into Training and Testing Sets**\n",
    "\n",
    "We split the dataset into training and testing sets to evaluate the performance of our model:\n",
    "X_train and y_train: Training features and target variable.\n",
    "X_test and y_test: Testing features and target variable.\n",
    "test_size=0.3: 30% of the data is used for testing.\n",
    "random_state=42: Ensures reproducibility by setting a seed for random number generation.\n",
    "\n",
    "**5. Optionally Scale the Features**\n",
    "\n",
    "Scaling the features helps improve the performance and convergence of many machine learning algorithms:\n",
    "\n",
    "StandardScaler(): Standardizes features by removing the mean and scaling to unit variance.\n",
    "fit_transform(): Fits the scaler on the training data and transforms it.\n",
    "transform(): Transforms the test data using the fitted scaler.\n"
   ]
  },
  {
   "cell_type": "code",
   "execution_count": 8,
   "id": "0b09ae04",
   "metadata": {
    "execution": {
     "iopub.execute_input": "2024-07-29T21:24:47.683196Z",
     "iopub.status.busy": "2024-07-29T21:24:47.682756Z",
     "iopub.status.idle": "2024-07-29T21:24:47.700165Z",
     "shell.execute_reply": "2024-07-29T21:24:47.698810Z"
    },
    "papermill": {
     "duration": 0.034884,
     "end_time": "2024-07-29T21:24:47.703341",
     "exception": false,
     "start_time": "2024-07-29T21:24:47.668457",
     "status": "completed"
    },
    "tags": []
   },
   "outputs": [],
   "source": [
    "# Split the data into training and testing sets\n",
    "X_train, X_test, y_train, y_test = train_test_split(X, y, test_size=0.3, random_state=42)\n",
    "\n",
    "# scale the features\n",
    "scaler = StandardScaler()\n",
    "X_train = scaler.fit_transform(X_train)\n",
    "X_test = scaler.transform(X_test)\n"
   ]
  },
  {
   "cell_type": "markdown",
   "id": "45b8f2f0",
   "metadata": {
    "papermill": {
     "duration": 0.012904,
     "end_time": "2024-07-29T21:24:47.729770",
     "exception": false,
     "start_time": "2024-07-29T21:24:47.716866",
     "status": "completed"
    },
    "tags": []
   },
   "source": [
    "# Model Training and Evaluation"
   ]
  },
  {
   "cell_type": "markdown",
   "id": "1b3a5af9",
   "metadata": {
    "papermill": {
     "duration": 0.012825,
     "end_time": "2024-07-29T21:24:47.756511",
     "exception": false,
     "start_time": "2024-07-29T21:24:47.743686",
     "status": "completed"
    },
    "tags": []
   },
   "source": [
    "**1. Initialize and Train the XGBoost Classifier**\n",
    "\n",
    "We initialize the XGBClassifier and fit it to the training data:"
   ]
  },
  {
   "cell_type": "code",
   "execution_count": 9,
   "id": "112d753e",
   "metadata": {
    "execution": {
     "iopub.execute_input": "2024-07-29T21:24:47.784424Z",
     "iopub.status.busy": "2024-07-29T21:24:47.783945Z",
     "iopub.status.idle": "2024-07-29T21:24:47.921548Z",
     "shell.execute_reply": "2024-07-29T21:24:47.920473Z"
    },
    "papermill": {
     "duration": 0.155198,
     "end_time": "2024-07-29T21:24:47.924736",
     "exception": false,
     "start_time": "2024-07-29T21:24:47.769538",
     "status": "completed"
    },
    "tags": []
   },
   "outputs": [
    {
     "data": {
      "text/html": [
       "<style>#sk-container-id-1 {color: black;background-color: white;}#sk-container-id-1 pre{padding: 0;}#sk-container-id-1 div.sk-toggleable {background-color: white;}#sk-container-id-1 label.sk-toggleable__label {cursor: pointer;display: block;width: 100%;margin-bottom: 0;padding: 0.3em;box-sizing: border-box;text-align: center;}#sk-container-id-1 label.sk-toggleable__label-arrow:before {content: \"▸\";float: left;margin-right: 0.25em;color: #696969;}#sk-container-id-1 label.sk-toggleable__label-arrow:hover:before {color: black;}#sk-container-id-1 div.sk-estimator:hover label.sk-toggleable__label-arrow:before {color: black;}#sk-container-id-1 div.sk-toggleable__content {max-height: 0;max-width: 0;overflow: hidden;text-align: left;background-color: #f0f8ff;}#sk-container-id-1 div.sk-toggleable__content pre {margin: 0.2em;color: black;border-radius: 0.25em;background-color: #f0f8ff;}#sk-container-id-1 input.sk-toggleable__control:checked~div.sk-toggleable__content {max-height: 200px;max-width: 100%;overflow: auto;}#sk-container-id-1 input.sk-toggleable__control:checked~label.sk-toggleable__label-arrow:before {content: \"▾\";}#sk-container-id-1 div.sk-estimator input.sk-toggleable__control:checked~label.sk-toggleable__label {background-color: #d4ebff;}#sk-container-id-1 div.sk-label input.sk-toggleable__control:checked~label.sk-toggleable__label {background-color: #d4ebff;}#sk-container-id-1 input.sk-hidden--visually {border: 0;clip: rect(1px 1px 1px 1px);clip: rect(1px, 1px, 1px, 1px);height: 1px;margin: -1px;overflow: hidden;padding: 0;position: absolute;width: 1px;}#sk-container-id-1 div.sk-estimator {font-family: monospace;background-color: #f0f8ff;border: 1px dotted black;border-radius: 0.25em;box-sizing: border-box;margin-bottom: 0.5em;}#sk-container-id-1 div.sk-estimator:hover {background-color: #d4ebff;}#sk-container-id-1 div.sk-parallel-item::after {content: \"\";width: 100%;border-bottom: 1px solid gray;flex-grow: 1;}#sk-container-id-1 div.sk-label:hover label.sk-toggleable__label {background-color: #d4ebff;}#sk-container-id-1 div.sk-serial::before {content: \"\";position: absolute;border-left: 1px solid gray;box-sizing: border-box;top: 0;bottom: 0;left: 50%;z-index: 0;}#sk-container-id-1 div.sk-serial {display: flex;flex-direction: column;align-items: center;background-color: white;padding-right: 0.2em;padding-left: 0.2em;position: relative;}#sk-container-id-1 div.sk-item {position: relative;z-index: 1;}#sk-container-id-1 div.sk-parallel {display: flex;align-items: stretch;justify-content: center;background-color: white;position: relative;}#sk-container-id-1 div.sk-item::before, #sk-container-id-1 div.sk-parallel-item::before {content: \"\";position: absolute;border-left: 1px solid gray;box-sizing: border-box;top: 0;bottom: 0;left: 50%;z-index: -1;}#sk-container-id-1 div.sk-parallel-item {display: flex;flex-direction: column;z-index: 1;position: relative;background-color: white;}#sk-container-id-1 div.sk-parallel-item:first-child::after {align-self: flex-end;width: 50%;}#sk-container-id-1 div.sk-parallel-item:last-child::after {align-self: flex-start;width: 50%;}#sk-container-id-1 div.sk-parallel-item:only-child::after {width: 0;}#sk-container-id-1 div.sk-dashed-wrapped {border: 1px dashed gray;margin: 0 0.4em 0.5em 0.4em;box-sizing: border-box;padding-bottom: 0.4em;background-color: white;}#sk-container-id-1 div.sk-label label {font-family: monospace;font-weight: bold;display: inline-block;line-height: 1.2em;}#sk-container-id-1 div.sk-label-container {text-align: center;}#sk-container-id-1 div.sk-container {/* jupyter's `normalize.less` sets `[hidden] { display: none; }` but bootstrap.min.css set `[hidden] { display: none !important; }` so we also need the `!important` here to be able to override the default hidden behavior on the sphinx rendered scikit-learn.org. See: https://github.com/scikit-learn/scikit-learn/issues/21755 */display: inline-block !important;position: relative;}#sk-container-id-1 div.sk-text-repr-fallback {display: none;}</style><div id=\"sk-container-id-1\" class=\"sk-top-container\"><div class=\"sk-text-repr-fallback\"><pre>XGBClassifier(base_score=None, booster=None, callbacks=None,\n",
       "              colsample_bylevel=None, colsample_bynode=None,\n",
       "              colsample_bytree=None, device=None, early_stopping_rounds=None,\n",
       "              enable_categorical=False, eval_metric=None, feature_types=None,\n",
       "              gamma=None, grow_policy=None, importance_type=None,\n",
       "              interaction_constraints=None, learning_rate=None, max_bin=None,\n",
       "              max_cat_threshold=None, max_cat_to_onehot=None,\n",
       "              max_delta_step=None, max_depth=None, max_leaves=None,\n",
       "              min_child_weight=None, missing=nan, monotone_constraints=None,\n",
       "              multi_strategy=None, n_estimators=None, n_jobs=None,\n",
       "              num_parallel_tree=None, random_state=None, ...)</pre><b>In a Jupyter environment, please rerun this cell to show the HTML representation or trust the notebook. <br />On GitHub, the HTML representation is unable to render, please try loading this page with nbviewer.org.</b></div><div class=\"sk-container\" hidden><div class=\"sk-item\"><div class=\"sk-estimator sk-toggleable\"><input class=\"sk-toggleable__control sk-hidden--visually\" id=\"sk-estimator-id-1\" type=\"checkbox\" checked><label for=\"sk-estimator-id-1\" class=\"sk-toggleable__label sk-toggleable__label-arrow\">XGBClassifier</label><div class=\"sk-toggleable__content\"><pre>XGBClassifier(base_score=None, booster=None, callbacks=None,\n",
       "              colsample_bylevel=None, colsample_bynode=None,\n",
       "              colsample_bytree=None, device=None, early_stopping_rounds=None,\n",
       "              enable_categorical=False, eval_metric=None, feature_types=None,\n",
       "              gamma=None, grow_policy=None, importance_type=None,\n",
       "              interaction_constraints=None, learning_rate=None, max_bin=None,\n",
       "              max_cat_threshold=None, max_cat_to_onehot=None,\n",
       "              max_delta_step=None, max_depth=None, max_leaves=None,\n",
       "              min_child_weight=None, missing=nan, monotone_constraints=None,\n",
       "              multi_strategy=None, n_estimators=None, n_jobs=None,\n",
       "              num_parallel_tree=None, random_state=None, ...)</pre></div></div></div></div></div>"
      ],
      "text/plain": [
       "XGBClassifier(base_score=None, booster=None, callbacks=None,\n",
       "              colsample_bylevel=None, colsample_bynode=None,\n",
       "              colsample_bytree=None, device=None, early_stopping_rounds=None,\n",
       "              enable_categorical=False, eval_metric=None, feature_types=None,\n",
       "              gamma=None, grow_policy=None, importance_type=None,\n",
       "              interaction_constraints=None, learning_rate=None, max_bin=None,\n",
       "              max_cat_threshold=None, max_cat_to_onehot=None,\n",
       "              max_delta_step=None, max_depth=None, max_leaves=None,\n",
       "              min_child_weight=None, missing=nan, monotone_constraints=None,\n",
       "              multi_strategy=None, n_estimators=None, n_jobs=None,\n",
       "              num_parallel_tree=None, random_state=None, ...)"
      ]
     },
     "execution_count": 9,
     "metadata": {},
     "output_type": "execute_result"
    }
   ],
   "source": [
    "model = XGBClassifier()\n",
    "model.fit(X_train, y_train)"
   ]
  },
  {
   "cell_type": "markdown",
   "id": "a08ec501",
   "metadata": {
    "papermill": {
     "duration": 0.012865,
     "end_time": "2024-07-29T21:24:47.950767",
     "exception": false,
     "start_time": "2024-07-29T21:24:47.937902",
     "status": "completed"
    },
    "tags": []
   },
   "source": [
    "XGBClassifier(): Initializes the XGBoost model for classification.\n",
    "\n",
    "fit(): Trains the model on the training features (X_train) and target variable (y_train)."
   ]
  },
  {
   "cell_type": "markdown",
   "id": "0b75ca82",
   "metadata": {
    "papermill": {
     "duration": 0.012876,
     "end_time": "2024-07-29T21:24:47.976994",
     "exception": false,
     "start_time": "2024-07-29T21:24:47.964118",
     "status": "completed"
    },
    "tags": []
   },
   "source": [
    "**Note on Hyperparameter Tuning**\n",
    "\n",
    "To enhance the performance of the XGBClassifier, consider tuning various hyperparameters. The model's accuracy can often be improved by adjusting hyperparameters such as:\n",
    "\n",
    "n_estimators: Number of boosting rounds. Increasing this can improve performance but may lead to overfitting.\n",
    "learning_rate: Step size shrinkage used in the update to prevent overfitting. Lower values can improve accuracy but require more boosting rounds.\n",
    "max_depth: Maximum depth of a tree. Higher values allow the model to capture more complex patterns but can lead to overfitting.\n",
    "min_child_weight: Minimum sum of instance weight (hessian) needed in a child. It controls overfitting.\n",
    "subsample: Fraction of samples used for fitting each individual base learner. Lower values help prevent overfitting.\n",
    "colsample_bytree: Fraction of features used for each tree. Helps in reducing overfitting.\n",
    "By carefully tuning these hyperparameters, you can achieve better accuracy and more robust model performance.\n",
    "\n"
   ]
  },
  {
   "cell_type": "markdown",
   "id": "6e52ba93",
   "metadata": {
    "papermill": {
     "duration": 0.013511,
     "end_time": "2024-07-29T21:24:48.003868",
     "exception": false,
     "start_time": "2024-07-29T21:24:47.990357",
     "status": "completed"
    },
    "tags": []
   },
   "source": [
    "**2. Make Predictions**\n",
    "\n",
    "predict(): Generates predictions for the test features (X_test).\n",
    "\n",
    "After training the model, we use it to make predictions on the test data:"
   ]
  },
  {
   "cell_type": "code",
   "execution_count": 10,
   "id": "0aba4f5b",
   "metadata": {
    "execution": {
     "iopub.execute_input": "2024-07-29T21:24:48.034607Z",
     "iopub.status.busy": "2024-07-29T21:24:48.034129Z",
     "iopub.status.idle": "2024-07-29T21:24:48.043484Z",
     "shell.execute_reply": "2024-07-29T21:24:48.042426Z"
    },
    "papermill": {
     "duration": 0.02938,
     "end_time": "2024-07-29T21:24:48.046635",
     "exception": false,
     "start_time": "2024-07-29T21:24:48.017255",
     "status": "completed"
    },
    "tags": []
   },
   "outputs": [],
   "source": [
    "# Make predictions on the validation set\n",
    "y_pred = model.predict(X_test)"
   ]
  },
  {
   "cell_type": "markdown",
   "id": "7e967833",
   "metadata": {
    "papermill": {
     "duration": 0.012905,
     "end_time": "2024-07-29T21:24:48.075213",
     "exception": false,
     "start_time": "2024-07-29T21:24:48.062308",
     "status": "completed"
    },
    "tags": []
   },
   "source": [
    "**3. Evaluate the Model**\n",
    "\n",
    "classification_report(): Provides a detailed report of the model’s performance, including precision, recall, F1-score, and support for each class.\n",
    "\n",
    "We evaluate the performance of the XGBoost model by generating a classification report:"
   ]
  },
  {
   "cell_type": "code",
   "execution_count": 11,
   "id": "4f7c9d1f",
   "metadata": {
    "execution": {
     "iopub.execute_input": "2024-07-29T21:24:48.103851Z",
     "iopub.status.busy": "2024-07-29T21:24:48.103418Z",
     "iopub.status.idle": "2024-07-29T21:24:48.120915Z",
     "shell.execute_reply": "2024-07-29T21:24:48.119459Z"
    },
    "papermill": {
     "duration": 0.035151,
     "end_time": "2024-07-29T21:24:48.123775",
     "exception": false,
     "start_time": "2024-07-29T21:24:48.088624",
     "status": "completed"
    },
    "tags": []
   },
   "outputs": [
    {
     "name": "stdout",
     "output_type": "stream",
     "text": [
      "XGBoost Model Evaluation:\n",
      "              precision    recall  f1-score   support\n",
      "\n",
      "           0       0.98      0.97      0.98       108\n",
      "           1       0.95      0.97      0.96        63\n",
      "\n",
      "    accuracy                           0.97       171\n",
      "   macro avg       0.97      0.97      0.97       171\n",
      "weighted avg       0.97      0.97      0.97       171\n",
      "\n"
     ]
    }
   ],
   "source": [
    "print(\"XGBoost Model Evaluation:\")\n",
    "print(classification_report(y_test, y_pred))"
   ]
  },
  {
   "cell_type": "markdown",
   "id": "d4fd563f",
   "metadata": {
    "papermill": {
     "duration": 0.012914,
     "end_time": "2024-07-29T21:24:48.150187",
     "exception": false,
     "start_time": "2024-07-29T21:24:48.137273",
     "status": "completed"
    },
    "tags": []
   },
   "source": [
    "# Data Visualization\n",
    "\n",
    "Visualizations help us understand the dataset and evaluate the model’s performance more intuitively. Here are some common visualizations used in classification tasks:"
   ]
  },
  {
   "cell_type": "markdown",
   "id": "4c5835cd",
   "metadata": {
    "papermill": {
     "duration": 0.013172,
     "end_time": "2024-07-29T21:24:48.176765",
     "exception": false,
     "start_time": "2024-07-29T21:24:48.163593",
     "status": "completed"
    },
    "tags": []
   },
   "source": [
    "**1. Distribution of Target Classes**\n",
    "\n",
    "Explanation:\n",
    "\n",
    "Countplot: Shows the count of each class in the target variable.\n",
    "\n",
    "Palette: Colors used for the bars.\n",
    "\n",
    "Understanding the distribution of target classes helps us see if the dataset is imbalanced:"
   ]
  },
  {
   "cell_type": "code",
   "execution_count": 12,
   "id": "8a541184",
   "metadata": {
    "execution": {
     "iopub.execute_input": "2024-07-29T21:24:48.205699Z",
     "iopub.status.busy": "2024-07-29T21:24:48.205285Z",
     "iopub.status.idle": "2024-07-29T21:24:48.977137Z",
     "shell.execute_reply": "2024-07-29T21:24:48.975803Z"
    },
    "papermill": {
     "duration": 0.791039,
     "end_time": "2024-07-29T21:24:48.981393",
     "exception": false,
     "start_time": "2024-07-29T21:24:48.190354",
     "status": "completed"
    },
    "tags": []
   },
   "outputs": [
    {
     "data": {
      "image/png": "[encoded data removed]",
      "text/plain": [
       "<Figure size 800x600 with 1 Axes>"
      ]
     },
     "metadata": {},
     "output_type": "display_data"
    }
   ],
   "source": [
    "import matplotlib.pyplot as plt\n",
    "import seaborn as sns\n",
    "# Plot the distribution of the target variable\n",
    "plt.figure(figsize=(8, 6))\n",
    "sns.countplot(x='diagnosis', data=Data, palette='viridis')\n",
    "plt.title('Distribution of Target Classes')\n",
    "plt.xlabel('Diagnosis')\n",
    "plt.ylabel('Count')\n",
    "plt.show()\n"
   ]
  },
  {
   "cell_type": "markdown",
   "id": "d132ca17",
   "metadata": {
    "papermill": {
     "duration": 0.018356,
     "end_time": "2024-07-29T21:24:49.017964",
     "exception": false,
     "start_time": "2024-07-29T21:24:48.999608",
     "status": "completed"
    },
    "tags": []
   },
   "source": [
    "**2. Feature Importances**\n",
    "\n",
    "XGBoost provides feature importance scores that can help us understand which features contribute most to the model’s predictions:"
   ]
  },
  {
   "cell_type": "code",
   "execution_count": 13,
   "id": "46eb0b24",
   "metadata": {
    "execution": {
     "iopub.execute_input": "2024-07-29T21:24:49.057081Z",
     "iopub.status.busy": "2024-07-29T21:24:49.056176Z",
     "iopub.status.idle": "2024-07-29T21:24:49.679877Z",
     "shell.execute_reply": "2024-07-29T21:24:49.678470Z"
    },
    "papermill": {
     "duration": 0.646494,
     "end_time": "2024-07-29T21:24:49.682608",
     "exception": false,
     "start_time": "2024-07-29T21:24:49.036114",
     "status": "completed"
    },
    "tags": []
   },
   "outputs": [
    {
     "data": {
      "image/png": "[encoded data removed]",
      "text/plain": [
       "<Figure size 1200x800 with 1 Axes>"
      ]
     },
     "metadata": {},
     "output_type": "display_data"
    }
   ],
   "source": [
    "# Plot feature importances\n",
    "plt.figure(figsize=(12, 8))\n",
    "feature_importances = model.feature_importances_\n",
    "features = X.columns\n",
    "sorted_idx = np.argsort(feature_importances)[::-1]\n",
    "\n",
    "plt.barh(range(len(sorted_idx)), feature_importances[sorted_idx], align='center')\n",
    "plt.yticks(range(len(sorted_idx)), features[sorted_idx])\n",
    "plt.xlabel('Feature Importance')\n",
    "plt.title('Feature Importances from XGBoost Model')\n",
    "plt.show()\n"
   ]
  },
  {
   "cell_type": "markdown",
   "id": "fc6ac15b",
   "metadata": {
    "papermill": {
     "duration": 0.014976,
     "end_time": "2024-07-29T21:24:49.713032",
     "exception": false,
     "start_time": "2024-07-29T21:24:49.698056",
     "status": "completed"
    },
    "tags": []
   },
   "source": [
    "Explanation:\n",
    "\n",
    "Feature Importances: Shows the importance of each feature according to the XGBoost model.\n",
    "\n",
    "Barh Plot: Horizontal bar plot where the length of the bar represents feature importance."
   ]
  },
  {
   "cell_type": "markdown",
   "id": "2bc050f6",
   "metadata": {
    "papermill": {
     "duration": 0.014989,
     "end_time": "2024-07-29T21:24:49.743428",
     "exception": false,
     "start_time": "2024-07-29T21:24:49.728439",
     "status": "completed"
    },
    "tags": []
   },
   "source": [
    "**3. Confusion Matrix**\n",
    "\n",
    "A confusion matrix helps us understand the performance of the model by showing the true vs. predicted classifications:"
   ]
  },
  {
   "cell_type": "code",
   "execution_count": 14,
   "id": "a80517d0",
   "metadata": {
    "execution": {
     "iopub.execute_input": "2024-07-29T21:24:49.776281Z",
     "iopub.status.busy": "2024-07-29T21:24:49.775822Z",
     "iopub.status.idle": "2024-07-29T21:24:50.099557Z",
     "shell.execute_reply": "2024-07-29T21:24:50.098310Z"
    },
    "papermill": {
     "duration": 0.343549,
     "end_time": "2024-07-29T21:24:50.102340",
     "exception": false,
     "start_time": "2024-07-29T21:24:49.758791",
     "status": "completed"
    },
    "tags": []
   },
   "outputs": [
    {
     "data": {
      "image/png": "[encoded data removed]",
      "text/plain": [
       "<Figure size 800x600 with 2 Axes>"
      ]
     },
     "metadata": {},
     "output_type": "display_data"
    }
   ],
   "source": [
    "from sklearn.metrics import confusion_matrix\n",
    "import seaborn as sns\n",
    "\n",
    "# Compute confusion matrix\n",
    "cm = confusion_matrix(y_test, y_pred)\n",
    "\n",
    "# Plot confusion matrix\n",
    "plt.figure(figsize=(8, 6))\n",
    "sns.heatmap(cm, annot=True, fmt='d', cmap='Blues', \n",
    "            xticklabels=['Benign', 'Malignant'], \n",
    "            yticklabels=['Benign', 'Malignant'])\n",
    "plt.xlabel('Predicted')\n",
    "plt.ylabel('Actual')\n",
    "plt.title('Confusion Matrix')\n",
    "plt.show()"
   ]
  },
  {
   "cell_type": "markdown",
   "id": "a452e19d",
   "metadata": {
    "papermill": {
     "duration": 0.016066,
     "end_time": "2024-07-29T21:24:50.134627",
     "exception": false,
     "start_time": "2024-07-29T21:24:50.118561",
     "status": "completed"
    },
    "tags": []
   },
   "source": [
    "Explanation:\n",
    "\n",
    "Confusion Matrix: Shows the number of true positives, true negatives, false positives, and false negatives.\n",
    "\n",
    "Heatmap: Visual representation of the confusion matrix with color gradients."
   ]
  },
  {
   "cell_type": "markdown",
   "id": "15ce4dc6",
   "metadata": {
    "papermill": {
     "duration": 0.015905,
     "end_time": "2024-07-29T21:24:50.166720",
     "exception": false,
     "start_time": "2024-07-29T21:24:50.150815",
     "status": "completed"
    },
    "tags": []
   },
   "source": [
    "**4. ROC Curve**\n",
    "\n",
    "The ROC curve illustrates the performance of a binary classification model by showing the trade-off between the true positive rate and false positive rate:"
   ]
  },
  {
   "cell_type": "code",
   "execution_count": 15,
   "id": "0104e7f7",
   "metadata": {
    "execution": {
     "iopub.execute_input": "2024-07-29T21:24:50.202149Z",
     "iopub.status.busy": "2024-07-29T21:24:50.201721Z",
     "iopub.status.idle": "2024-07-29T21:24:50.528867Z",
     "shell.execute_reply": "2024-07-29T21:24:50.527385Z"
    },
    "papermill": {
     "duration": 0.348913,
     "end_time": "2024-07-29T21:24:50.531934",
     "exception": false,
     "start_time": "2024-07-29T21:24:50.183021",
     "status": "completed"
    },
    "tags": []
   },
   "outputs": [
    {
     "data": {
      "image/png": "[encoded data removed]",
      "text/plain": [
       "<Figure size 800x600 with 1 Axes>"
      ]
     },
     "metadata": {},
     "output_type": "display_data"
    }
   ],
   "source": [
    "from sklearn.metrics import roc_curve, auc\n",
    "\n",
    "# Compute ROC curve\n",
    "fpr, tpr, _ = roc_curve(y_test, model.predict_proba(X_test)[:,1])\n",
    "roc_auc = auc(fpr, tpr)\n",
    "\n",
    "# Plot ROC curve\n",
    "plt.figure(figsize=(8, 6))\n",
    "plt.plot(fpr, tpr, color='darkorange', lw=2, label=f'ROC curve (area = {roc_auc:.2f})')\n",
    "plt.plot([0, 1], [0, 1], color='navy', lw=2, linestyle='--')\n",
    "plt.xlim([0.0, 1.0])\n",
    "plt.ylim([0.0, 1.05])\n",
    "plt.xlabel('False Positive Rate')\n",
    "plt.ylabel('True Positive Rate')\n",
    "plt.title('Receiver Operating Characteristic (ROC)')\n",
    "plt.legend(loc='lower right')\n",
    "plt.show()\n"
   ]
  },
  {
   "cell_type": "markdown",
   "id": "0a354aee",
   "metadata": {
    "papermill": {
     "duration": 0.016493,
     "end_time": "2024-07-29T21:24:50.630317",
     "exception": false,
     "start_time": "2024-07-29T21:24:50.613824",
     "status": "completed"
    },
    "tags": []
   },
   "source": [
    "Explanation:\n",
    "\n",
    "ROC Curve: Displays the trade-off between sensitivity (true positive rate) and 1-specificity (false positive rate).\n",
    "\n",
    "AUC (Area Under Curve): Represents the overall performance of the model. Higher values indicate better performance."
   ]
  }
 ],
 "metadata": {
  "kaggle": {
   "accelerator": "none",
   "dataSources": [
    {
     "datasetId": 180,
     "sourceId": 408,
     "sourceType": "datasetVersion"
    }
   ],
   "dockerImageVersionId": 30746,
   "isGpuEnabled": false,
   "isInternetEnabled": true,
   "language": "python",
   "sourceType": "notebook"
  },
  "kernelspec": {
   "display_name": "Python 3",
   "language": "python",
   "name": "python3"
  },
  "language_info": {
   "codemirror_mode": {
    "name": "ipython",
    "version": 3
   },
   "file_extension": ".py",
   "mimetype": "text/x-python",
   "name": "python",
   "nbconvert_exporter": "python",
   "pygments_lexer": "ipython3",
   "version": "3.10.13"
  },
  "papermill": {
   "default_parameters": {},
   "duration": 10.531492,
   "end_time": "2024-07-29T21:24:51.369729",
   "environment_variables": {},
   "exception": null,
   "input_path": "__notebook__.ipynb",
   "output_path": "__notebook__.ipynb",
   "parameters": {},
   "start_time": "2024-07-29T21:24:40.838237",
   "version": "2.5.0"
  }
 },
 "nbformat": 4,
 "nbformat_minor": 5
}
